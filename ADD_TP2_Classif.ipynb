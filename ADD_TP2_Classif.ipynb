{
 "cells": [
  {
   "cell_type": "markdown",
   "id": "e5325090",
   "metadata": {},
   "source": [
    "<br>\n",
    "<div align=\"center\"><span style=\"font-size:32px;color:darkblue\">TP 2 Classification</span></div><br><br>\n"
   ]
  },
  {
   "cell_type": "markdown",
   "id": "2f5ae4f9",
   "metadata": {},
   "source": [
    "On reprend les mêmes données qu'au premier TP. On cherche à faire une classification de nos années en groupes *homogènes* partageant des propriétés similaires, et ce à partir des informations apportées par les variables.\n",
    "\n",
    "<span>&#9757;</span> On commence par importer nos packages préférés `pandas` et `numpy`."
   ]
  },
  {
   "cell_type": "markdown",
   "id": "cfb8a26d",
   "metadata": {},
   "source": [
    "puis importer nos données et vérifier la taille:"
   ]
  },
  {
   "cell_type": "code",
   "execution_count": 1,
   "id": "763ba8b8-23ac-499d-98b7-06c082391f8c",
   "metadata": {},
   "outputs": [],
   "source": [
    "import pandas as pd\n",
    "import numpy as np "
   ]
  },
  {
   "cell_type": "code",
   "execution_count": 2,
   "id": "35849b07",
   "metadata": {},
   "outputs": [
    {
     "data": {
      "text/html": [
       "<div>\n",
       "<style scoped>\n",
       "    .dataframe tbody tr th:only-of-type {\n",
       "        vertical-align: middle;\n",
       "    }\n",
       "\n",
       "    .dataframe tbody tr th {\n",
       "        vertical-align: top;\n",
       "    }\n",
       "\n",
       "    .dataframe thead th {\n",
       "        text-align: right;\n",
       "    }\n",
       "</style>\n",
       "<table border=\"1\" class=\"dataframe\">\n",
       "  <thead>\n",
       "    <tr style=\"text-align: right;\">\n",
       "      <th></th>\n",
       "      <th>PVP</th>\n",
       "      <th>AGR</th>\n",
       "      <th>CMI</th>\n",
       "      <th>TRA</th>\n",
       "      <th>LOG</th>\n",
       "      <th>EDU</th>\n",
       "      <th>ACS</th>\n",
       "      <th>ANC</th>\n",
       "      <th>DEF</th>\n",
       "      <th>DET</th>\n",
       "      <th>DIV</th>\n",
       "    </tr>\n",
       "    <tr>\n",
       "      <th>AN</th>\n",
       "      <th></th>\n",
       "      <th></th>\n",
       "      <th></th>\n",
       "      <th></th>\n",
       "      <th></th>\n",
       "      <th></th>\n",
       "      <th></th>\n",
       "      <th></th>\n",
       "      <th></th>\n",
       "      <th></th>\n",
       "      <th></th>\n",
       "    </tr>\n",
       "  </thead>\n",
       "  <tbody>\n",
       "    <tr>\n",
       "      <th>1872</th>\n",
       "      <td>18.0</td>\n",
       "      <td>0.5</td>\n",
       "      <td>0.1</td>\n",
       "      <td>6.7</td>\n",
       "      <td>0.5</td>\n",
       "      <td>2.1</td>\n",
       "      <td>2.0</td>\n",
       "      <td>0.0</td>\n",
       "      <td>26.4</td>\n",
       "      <td>41.5</td>\n",
       "      <td>2.1</td>\n",
       "    </tr>\n",
       "    <tr>\n",
       "      <th>1880</th>\n",
       "      <td>14.1</td>\n",
       "      <td>0.8</td>\n",
       "      <td>0.1</td>\n",
       "      <td>15.3</td>\n",
       "      <td>1.9</td>\n",
       "      <td>3.7</td>\n",
       "      <td>0.5</td>\n",
       "      <td>0.0</td>\n",
       "      <td>29.8</td>\n",
       "      <td>31.3</td>\n",
       "      <td>2.5</td>\n",
       "    </tr>\n",
       "    <tr>\n",
       "      <th>1890</th>\n",
       "      <td>13.6</td>\n",
       "      <td>0.7</td>\n",
       "      <td>0.7</td>\n",
       "      <td>6.8</td>\n",
       "      <td>0.6</td>\n",
       "      <td>7.1</td>\n",
       "      <td>0.7</td>\n",
       "      <td>0.0</td>\n",
       "      <td>33.8</td>\n",
       "      <td>34.4</td>\n",
       "      <td>1.7</td>\n",
       "    </tr>\n",
       "    <tr>\n",
       "      <th>1900</th>\n",
       "      <td>14.3</td>\n",
       "      <td>1.7</td>\n",
       "      <td>1.7</td>\n",
       "      <td>6.9</td>\n",
       "      <td>1.2</td>\n",
       "      <td>7.4</td>\n",
       "      <td>0.8</td>\n",
       "      <td>0.0</td>\n",
       "      <td>37.7</td>\n",
       "      <td>26.2</td>\n",
       "      <td>2.2</td>\n",
       "    </tr>\n",
       "    <tr>\n",
       "      <th>1903</th>\n",
       "      <td>10.3</td>\n",
       "      <td>1.5</td>\n",
       "      <td>0.4</td>\n",
       "      <td>9.3</td>\n",
       "      <td>0.6</td>\n",
       "      <td>8.5</td>\n",
       "      <td>0.9</td>\n",
       "      <td>0.0</td>\n",
       "      <td>38.4</td>\n",
       "      <td>27.2</td>\n",
       "      <td>3.0</td>\n",
       "    </tr>\n",
       "    <tr>\n",
       "      <th>1906</th>\n",
       "      <td>13.4</td>\n",
       "      <td>1.4</td>\n",
       "      <td>0.5</td>\n",
       "      <td>8.1</td>\n",
       "      <td>0.7</td>\n",
       "      <td>8.6</td>\n",
       "      <td>1.8</td>\n",
       "      <td>0.0</td>\n",
       "      <td>38.5</td>\n",
       "      <td>25.3</td>\n",
       "      <td>1.9</td>\n",
       "    </tr>\n",
       "    <tr>\n",
       "      <th>1909</th>\n",
       "      <td>13.5</td>\n",
       "      <td>1.1</td>\n",
       "      <td>0.5</td>\n",
       "      <td>9.0</td>\n",
       "      <td>0.6</td>\n",
       "      <td>9.0</td>\n",
       "      <td>3.4</td>\n",
       "      <td>0.0</td>\n",
       "      <td>36.8</td>\n",
       "      <td>23.5</td>\n",
       "      <td>2.6</td>\n",
       "    </tr>\n",
       "    <tr>\n",
       "      <th>1912</th>\n",
       "      <td>12.9</td>\n",
       "      <td>1.4</td>\n",
       "      <td>0.3</td>\n",
       "      <td>9.4</td>\n",
       "      <td>0.6</td>\n",
       "      <td>9.3</td>\n",
       "      <td>4.3</td>\n",
       "      <td>0.0</td>\n",
       "      <td>41.1</td>\n",
       "      <td>19.4</td>\n",
       "      <td>1.3</td>\n",
       "    </tr>\n",
       "    <tr>\n",
       "      <th>1920</th>\n",
       "      <td>12.3</td>\n",
       "      <td>0.3</td>\n",
       "      <td>0.1</td>\n",
       "      <td>11.9</td>\n",
       "      <td>2.4</td>\n",
       "      <td>3.7</td>\n",
       "      <td>1.7</td>\n",
       "      <td>1.9</td>\n",
       "      <td>42.4</td>\n",
       "      <td>23.1</td>\n",
       "      <td>0.2</td>\n",
       "    </tr>\n",
       "    <tr>\n",
       "      <th>1923</th>\n",
       "      <td>7.6</td>\n",
       "      <td>1.2</td>\n",
       "      <td>3.2</td>\n",
       "      <td>5.1</td>\n",
       "      <td>0.6</td>\n",
       "      <td>5.6</td>\n",
       "      <td>1.8</td>\n",
       "      <td>10.0</td>\n",
       "      <td>29.0</td>\n",
       "      <td>35.0</td>\n",
       "      <td>0.9</td>\n",
       "    </tr>\n",
       "    <tr>\n",
       "      <th>1926</th>\n",
       "      <td>10.5</td>\n",
       "      <td>0.3</td>\n",
       "      <td>0.4</td>\n",
       "      <td>4.5</td>\n",
       "      <td>1.8</td>\n",
       "      <td>6.6</td>\n",
       "      <td>2.1</td>\n",
       "      <td>10.1</td>\n",
       "      <td>19.9</td>\n",
       "      <td>41.6</td>\n",
       "      <td>2.3</td>\n",
       "    </tr>\n",
       "    <tr>\n",
       "      <th>1929</th>\n",
       "      <td>10.0</td>\n",
       "      <td>0.6</td>\n",
       "      <td>0.6</td>\n",
       "      <td>9.0</td>\n",
       "      <td>1.0</td>\n",
       "      <td>8.1</td>\n",
       "      <td>3.2</td>\n",
       "      <td>11.8</td>\n",
       "      <td>28.0</td>\n",
       "      <td>25.8</td>\n",
       "      <td>2.0</td>\n",
       "    </tr>\n",
       "    <tr>\n",
       "      <th>1932</th>\n",
       "      <td>10.6</td>\n",
       "      <td>0.8</td>\n",
       "      <td>0.3</td>\n",
       "      <td>8.9</td>\n",
       "      <td>3.0</td>\n",
       "      <td>10.0</td>\n",
       "      <td>6.4</td>\n",
       "      <td>13.4</td>\n",
       "      <td>27.4</td>\n",
       "      <td>19.2</td>\n",
       "      <td>0.0</td>\n",
       "    </tr>\n",
       "    <tr>\n",
       "      <th>1935</th>\n",
       "      <td>8.8</td>\n",
       "      <td>2.6</td>\n",
       "      <td>1.4</td>\n",
       "      <td>7.8</td>\n",
       "      <td>1.4</td>\n",
       "      <td>12.4</td>\n",
       "      <td>6.2</td>\n",
       "      <td>11.3</td>\n",
       "      <td>29.3</td>\n",
       "      <td>18.5</td>\n",
       "      <td>0.4</td>\n",
       "    </tr>\n",
       "    <tr>\n",
       "      <th>1938</th>\n",
       "      <td>10.1</td>\n",
       "      <td>1.1</td>\n",
       "      <td>1.2</td>\n",
       "      <td>5.9</td>\n",
       "      <td>1.4</td>\n",
       "      <td>9.5</td>\n",
       "      <td>6.0</td>\n",
       "      <td>5.9</td>\n",
       "      <td>40.7</td>\n",
       "      <td>18.2</td>\n",
       "      <td>0.0</td>\n",
       "    </tr>\n",
       "    <tr>\n",
       "      <th>1947</th>\n",
       "      <td>15.6</td>\n",
       "      <td>1.6</td>\n",
       "      <td>10.1</td>\n",
       "      <td>11.4</td>\n",
       "      <td>7.6</td>\n",
       "      <td>8.8</td>\n",
       "      <td>4.8</td>\n",
       "      <td>3.4</td>\n",
       "      <td>32.2</td>\n",
       "      <td>4.6</td>\n",
       "      <td>0.0</td>\n",
       "    </tr>\n",
       "    <tr>\n",
       "      <th>1950</th>\n",
       "      <td>11.2</td>\n",
       "      <td>1.3</td>\n",
       "      <td>16.5</td>\n",
       "      <td>12.4</td>\n",
       "      <td>15.8</td>\n",
       "      <td>8.1</td>\n",
       "      <td>4.9</td>\n",
       "      <td>3.4</td>\n",
       "      <td>20.7</td>\n",
       "      <td>4.2</td>\n",
       "      <td>1.5</td>\n",
       "    </tr>\n",
       "    <tr>\n",
       "      <th>1953</th>\n",
       "      <td>12.9</td>\n",
       "      <td>1.5</td>\n",
       "      <td>7.0</td>\n",
       "      <td>7.9</td>\n",
       "      <td>12.1</td>\n",
       "      <td>8.1</td>\n",
       "      <td>5.3</td>\n",
       "      <td>3.9</td>\n",
       "      <td>36.1</td>\n",
       "      <td>5.2</td>\n",
       "      <td>0.0</td>\n",
       "    </tr>\n",
       "    <tr>\n",
       "      <th>1956</th>\n",
       "      <td>10.9</td>\n",
       "      <td>5.3</td>\n",
       "      <td>9.7</td>\n",
       "      <td>7.6</td>\n",
       "      <td>9.6</td>\n",
       "      <td>9.4</td>\n",
       "      <td>8.5</td>\n",
       "      <td>4.6</td>\n",
       "      <td>28.2</td>\n",
       "      <td>6.2</td>\n",
       "      <td>0.0</td>\n",
       "    </tr>\n",
       "    <tr>\n",
       "      <th>1959</th>\n",
       "      <td>13.1</td>\n",
       "      <td>4.4</td>\n",
       "      <td>7.3</td>\n",
       "      <td>5.7</td>\n",
       "      <td>9.8</td>\n",
       "      <td>12.5</td>\n",
       "      <td>8.0</td>\n",
       "      <td>5.0</td>\n",
       "      <td>26.7</td>\n",
       "      <td>7.5</td>\n",
       "      <td>0.0</td>\n",
       "    </tr>\n",
       "    <tr>\n",
       "      <th>1962</th>\n",
       "      <td>12.8</td>\n",
       "      <td>4.7</td>\n",
       "      <td>7.5</td>\n",
       "      <td>6.6</td>\n",
       "      <td>6.8</td>\n",
       "      <td>15.7</td>\n",
       "      <td>9.7</td>\n",
       "      <td>5.3</td>\n",
       "      <td>24.5</td>\n",
       "      <td>6.4</td>\n",
       "      <td>0.1</td>\n",
       "    </tr>\n",
       "    <tr>\n",
       "      <th>1965</th>\n",
       "      <td>12.4</td>\n",
       "      <td>4.3</td>\n",
       "      <td>8.4</td>\n",
       "      <td>9.1</td>\n",
       "      <td>6.0</td>\n",
       "      <td>19.5</td>\n",
       "      <td>10.6</td>\n",
       "      <td>4.7</td>\n",
       "      <td>19.8</td>\n",
       "      <td>3.5</td>\n",
       "      <td>1.8</td>\n",
       "    </tr>\n",
       "    <tr>\n",
       "      <th>1968</th>\n",
       "      <td>11.4</td>\n",
       "      <td>6.0</td>\n",
       "      <td>9.5</td>\n",
       "      <td>5.9</td>\n",
       "      <td>5.0</td>\n",
       "      <td>21.1</td>\n",
       "      <td>10.7</td>\n",
       "      <td>4.2</td>\n",
       "      <td>20.0</td>\n",
       "      <td>4.4</td>\n",
       "      <td>1.9</td>\n",
       "    </tr>\n",
       "    <tr>\n",
       "      <th>1971</th>\n",
       "      <td>12.8</td>\n",
       "      <td>2.8</td>\n",
       "      <td>7.1</td>\n",
       "      <td>8.5</td>\n",
       "      <td>4.0</td>\n",
       "      <td>23.8</td>\n",
       "      <td>11.3</td>\n",
       "      <td>3.7</td>\n",
       "      <td>18.8</td>\n",
       "      <td>7.2</td>\n",
       "      <td>0.0</td>\n",
       "    </tr>\n",
       "  </tbody>\n",
       "</table>\n",
       "</div>"
      ],
      "text/plain": [
       "       PVP  AGR   CMI   TRA   LOG   EDU   ACS   ANC   DEF   DET   DIV\n",
       " AN                                                                  \n",
       "1872  18.0  0.5   0.1   6.7   0.5   2.1   2.0   0.0  26.4  41.5   2.1\n",
       "1880  14.1  0.8   0.1  15.3   1.9   3.7   0.5   0.0  29.8  31.3   2.5\n",
       "1890  13.6  0.7   0.7   6.8   0.6   7.1   0.7   0.0  33.8  34.4   1.7\n",
       "1900  14.3  1.7   1.7   6.9   1.2   7.4   0.8   0.0  37.7  26.2   2.2\n",
       "1903  10.3  1.5   0.4   9.3   0.6   8.5   0.9   0.0  38.4  27.2   3.0\n",
       "1906  13.4  1.4   0.5   8.1   0.7   8.6   1.8   0.0  38.5  25.3   1.9\n",
       "1909  13.5  1.1   0.5   9.0   0.6   9.0   3.4   0.0  36.8  23.5   2.6\n",
       "1912  12.9  1.4   0.3   9.4   0.6   9.3   4.3   0.0  41.1  19.4   1.3\n",
       "1920  12.3  0.3   0.1  11.9   2.4   3.7   1.7   1.9  42.4  23.1   0.2\n",
       "1923   7.6  1.2   3.2   5.1   0.6   5.6   1.8  10.0  29.0  35.0   0.9\n",
       "1926  10.5  0.3   0.4   4.5   1.8   6.6   2.1  10.1  19.9  41.6   2.3\n",
       "1929  10.0  0.6   0.6   9.0   1.0   8.1   3.2  11.8  28.0  25.8   2.0\n",
       "1932  10.6  0.8   0.3   8.9   3.0  10.0   6.4  13.4  27.4  19.2   0.0\n",
       "1935   8.8  2.6   1.4   7.8   1.4  12.4   6.2  11.3  29.3  18.5   0.4\n",
       "1938  10.1  1.1   1.2   5.9   1.4   9.5   6.0   5.9  40.7  18.2   0.0\n",
       "1947  15.6  1.6  10.1  11.4   7.6   8.8   4.8   3.4  32.2   4.6   0.0\n",
       "1950  11.2  1.3  16.5  12.4  15.8   8.1   4.9   3.4  20.7   4.2   1.5\n",
       "1953  12.9  1.5   7.0   7.9  12.1   8.1   5.3   3.9  36.1   5.2   0.0\n",
       "1956  10.9  5.3   9.7   7.6   9.6   9.4   8.5   4.6  28.2   6.2   0.0\n",
       "1959  13.1  4.4   7.3   5.7   9.8  12.5   8.0   5.0  26.7   7.5   0.0\n",
       "1962  12.8  4.7   7.5   6.6   6.8  15.7   9.7   5.3  24.5   6.4   0.1\n",
       "1965  12.4  4.3   8.4   9.1   6.0  19.5  10.6   4.7  19.8   3.5   1.8\n",
       "1968  11.4  6.0   9.5   5.9   5.0  21.1  10.7   4.2  20.0   4.4   1.9\n",
       "1971  12.8  2.8   7.1   8.5   4.0  23.8  11.3   3.7  18.8   7.2   0.0"
      ]
     },
     "execution_count": 2,
     "metadata": {},
     "output_type": "execute_result"
    }
   ],
   "source": [
    "X = pd.read_excel(\"budgets.xls\",sheet_name=0,header=0,index_col=0)\n",
    "X"
   ]
  },
  {
   "cell_type": "code",
   "execution_count": 3,
   "id": "62d7cd39-5fd3-498b-b221-cd3ee1ac82ec",
   "metadata": {},
   "outputs": [
    {
     "data": {
      "text/plain": [
       "(24, 11)"
      ]
     },
     "execution_count": 3,
     "metadata": {},
     "output_type": "execute_result"
    }
   ],
   "source": [
    "n,p=X.shape\n",
    "n,p"
   ]
  },
  {
   "cell_type": "markdown",
   "id": "376284ea",
   "metadata": {},
   "source": [
    "Comme pour l'ACP, on s'intéresse à la distance entre les différents individus. Plutôt que de recoder notre fonction distance, on peut en utiliser une déjà présente dans un des packages de maths de python: `scipy`"
   ]
  },
  {
   "cell_type": "code",
   "execution_count": 4,
   "id": "9a857dc3",
   "metadata": {},
   "outputs": [],
   "source": [
    "from scipy.spatial.distance import pdist"
   ]
  },
  {
   "cell_type": "code",
   "execution_count": 5,
   "id": "652f1029",
   "metadata": {},
   "outputs": [],
   "source": [
    "Distance=pdist(X)"
   ]
  },
  {
   "cell_type": "markdown",
   "id": "2dc3953f",
   "metadata": {},
   "source": [
    "Attention, le résultat n'est pas évident à lire: le résultat en sortie est une liste (tableau à 1 dimension) qui a collecté colonne par colonne les distances entre individus. Sous cette forme il est difficile d'extraire les informations d'individus proches etc..."
   ]
  },
  {
   "cell_type": "code",
   "execution_count": 6,
   "id": "abf40c5c-d3da-417d-a86a-7f26140aca73",
   "metadata": {},
   "outputs": [
    {
     "data": {
      "text/html": [
       "<div>\n",
       "<style scoped>\n",
       "    .dataframe tbody tr th:only-of-type {\n",
       "        vertical-align: middle;\n",
       "    }\n",
       "\n",
       "    .dataframe tbody tr th {\n",
       "        vertical-align: top;\n",
       "    }\n",
       "\n",
       "    .dataframe thead th {\n",
       "        text-align: right;\n",
       "    }\n",
       "</style>\n",
       "<table border=\"1\" class=\"dataframe\">\n",
       "  <thead>\n",
       "    <tr style=\"text-align: right;\">\n",
       "      <th></th>\n",
       "      <th>0</th>\n",
       "    </tr>\n",
       "  </thead>\n",
       "  <tbody>\n",
       "    <tr>\n",
       "      <th>0</th>\n",
       "      <td>14.553007</td>\n",
       "    </tr>\n",
       "    <tr>\n",
       "      <th>1</th>\n",
       "      <td>12.320714</td>\n",
       "    </tr>\n",
       "    <tr>\n",
       "      <th>2</th>\n",
       "      <td>20.237095</td>\n",
       "    </tr>\n",
       "    <tr>\n",
       "      <th>3</th>\n",
       "      <td>21.415415</td>\n",
       "    </tr>\n",
       "    <tr>\n",
       "      <th>4</th>\n",
       "      <td>21.801605</td>\n",
       "    </tr>\n",
       "    <tr>\n",
       "      <th>...</th>\n",
       "      <td>...</td>\n",
       "    </tr>\n",
       "    <tr>\n",
       "      <th>271</th>\n",
       "      <td>8.380931</td>\n",
       "    </tr>\n",
       "    <tr>\n",
       "      <th>272</th>\n",
       "      <td>10.912836</td>\n",
       "    </tr>\n",
       "    <tr>\n",
       "      <th>273</th>\n",
       "      <td>4.474371</td>\n",
       "    </tr>\n",
       "    <tr>\n",
       "      <th>274</th>\n",
       "      <td>6.809552</td>\n",
       "    </tr>\n",
       "    <tr>\n",
       "      <th>275</th>\n",
       "      <td>6.819824</td>\n",
       "    </tr>\n",
       "  </tbody>\n",
       "</table>\n",
       "<p>276 rows × 1 columns</p>\n",
       "</div>"
      ],
      "text/plain": [
       "             0\n",
       "0    14.553007\n",
       "1    12.320714\n",
       "2    20.237095\n",
       "3    21.415415\n",
       "4    21.801605\n",
       "..         ...\n",
       "271   8.380931\n",
       "272  10.912836\n",
       "273   4.474371\n",
       "274   6.809552\n",
       "275   6.819824\n",
       "\n",
       "[276 rows x 1 columns]"
      ]
     },
     "execution_count": 6,
     "metadata": {},
     "output_type": "execute_result"
    }
   ],
   "source": [
    "pd.DataFrame(Distance)"
   ]
  },
  {
   "cell_type": "markdown",
   "id": "0b0e00f5",
   "metadata": {},
   "source": [
    "# Classification ascendante hierarchique\n",
    "\n",
    "On s'interesse ensuite à l'algorithme de **classification ascendante hierarchique** vu en cours:\n",
    "- On réunit d'abord les individus les plus proches\n",
    "- Puis on calcule les distances entre les différents classes (grâce à la distance de Ward par exemple mais on peut le faire avec d'autres distances)\n",
    "- Puis on réunit les classes qui sont les plus proches selon cette distance...\n",
    "\n",
    "Pour cela, on utilise la fonction `linkage` du module `cluster.hierarchy` de `scipy` en lui précisant la distance utilisée initiallement entre les points (`euclidean`) et la distance utilisée entre les classes (`ward`): \n",
    "- Cette fonction prend en entrée soit le tableau individus $\\times$ variables soit la liste des distances précédemment calculées.\n",
    "- Cette fonction renvoie un tableau Z de taille $(n-1) \\times 4$ où chaque ligne $i$ représente une étape de l'algorithme. Initiallement, les individus forment chacun une classe numérotée de $0$ à $n-1$.\n",
    "- A l'étape/ligne i, on a donc 4 informations: Les 2 individus Z[i,0] et Z[i,1] que l'on va réunir, leur distance Z[i,2] et La taille Z[i,3] de la nouvelle classe obtenue après cette réunion. Cette nouvelle classe est numérotée $n+i$. \n",
    "\n",
    "Vous pouvez consulter la doc: https://docs.scipy.org/doc/scipy/reference/generated/scipy.cluster.hierarchy.linkage.html"
   ]
  },
  {
   "cell_type": "code",
   "execution_count": 7,
   "id": "f411f0a0",
   "metadata": {},
   "outputs": [],
   "source": [
    "from scipy.cluster.hierarchy import linkage"
   ]
  },
  {
   "cell_type": "code",
   "execution_count": 8,
   "id": "7ae8a52c",
   "metadata": {},
   "outputs": [
    {
     "data": {
      "text/plain": [
       "array([[ 3.        ,  5.        ,  2.83019434,  2.        ],\n",
       "       [21.        , 22.        ,  4.47437146,  2.        ],\n",
       "       [ 6.        , 24.        ,  4.54935893,  3.        ],\n",
       "       [12.        , 13.        ,  5.09215082,  2.        ],\n",
       "       [18.        , 19.        ,  5.38702144,  2.        ],\n",
       "       [ 4.        , 26.        ,  5.61189213,  4.        ],\n",
       "       [23.        , 25.        ,  7.43281015,  3.        ],\n",
       "       [20.        , 28.        ,  7.65114371,  3.        ],\n",
       "       [ 7.        , 14.        ,  7.91580697,  2.        ],\n",
       "       [15.        , 17.        ,  8.12219182,  2.        ],\n",
       "       [11.        , 27.        ,  9.96075633,  3.        ],\n",
       "       [ 1.        ,  2.        , 10.60235823,  2.        ],\n",
       "       [ 8.        , 32.        , 10.85817664,  3.        ],\n",
       "       [ 9.        , 10.        , 12.17743815,  2.        ],\n",
       "       [ 0.        , 35.        , 14.3151435 ,  3.        ],\n",
       "       [29.        , 36.        , 14.32280898,  7.        ],\n",
       "       [31.        , 33.        , 16.91667816,  5.        ],\n",
       "       [16.        , 40.        , 19.90919386,  6.        ],\n",
       "       [37.        , 38.        , 22.24771149,  5.        ],\n",
       "       [30.        , 41.        , 31.2449107 ,  9.        ],\n",
       "       [34.        , 39.        , 33.66770673, 10.        ],\n",
       "       [42.        , 44.        , 43.80607264, 15.        ],\n",
       "       [43.        , 45.        , 91.84642829, 24.        ]])"
      ]
     },
     "execution_count": 8,
     "metadata": {},
     "output_type": "execute_result"
    }
   ],
   "source": [
    "#générer la matrice des liens\n",
    "Z = linkage(X, method = \"ward\", metric = \"euclidean\")\n",
    "Z"
   ]
  },
  {
   "cell_type": "markdown",
   "id": "dbe21ee0",
   "metadata": {},
   "source": [
    "<span>&#9999;</span> En regardant Z, répondez aux questions suivantes:\n",
    "- Quelles années sont regroupées à la première étape de l'algorithme? \n",
    "\n",
    "   **Les années 1900 et 1906**\n",
    "    \n",
    "- A quelle étape de l'algorithme ces deux années sont-elles regroupées avec d'autres?\n",
    "\n",
    "     **A l'étape 2 ces individus sont regroupé avec l'individu 6 correspondant à l'année 1909**\n",
    "     \n",
    "- A quelle étape de l'algorithme voit-on apparaitre une classe contenant plus de 5 éléments?\n",
    "\n",
    "     **A l'étape 15  de l'algorithme on vois apparaitre une classe à 7**\n",
    "     \n",
    "- A cette étape, quelle est la distance entre les 2 classes qu'on regroupe?\n",
    "\n",
    "    **A cette étape la distance entre les deux classes qu'on regroupe est de 14.32280898**\n",
    "    \n",
    "- Quelle sera la hauteur de l'arbre?\n",
    "\n",
    "    **La hauteur de l'arbre est 91.84642829**\n",
    "\n"
   ]
  },
  {
   "cell_type": "markdown",
   "id": "f9487b01",
   "metadata": {},
   "source": [
    "<span>&#9757;</span> <span>&#9757;</span> Tracer la perte d'inertie inter de la classification."
   ]
  },
  {
   "cell_type": "markdown",
   "id": "34c040cb",
   "metadata": {},
   "source": [
    "Pour visualiser tout cela, on va dessiner le **dendrogramme** c'est-à-dire l'arbre hierarchique. On utilise la fonction `dendrogram` appliquée au tableau des *liens* précédemment calculée. "
   ]
  },
  {
   "cell_type": "code",
   "execution_count": 9,
   "id": "f03e4e58",
   "metadata": {},
   "outputs": [
    {
     "data": {
      "image/png": "[encoded data removed]",
      "text/plain": [
       "<Figure size 720x720 with 1 Axes>"
      ]
     },
     "metadata": {
      "needs_background": "light"
     },
     "output_type": "display_data"
    }
   ],
   "source": [
    "import matplotlib.pyplot as plt\n",
    "from scipy.cluster.hierarchy import dendrogram\n",
    "\n",
    "\n",
    "fig = plt.figure(figsize=(10, 10))\n",
    "plt.title(\"CAH\")\n",
    "dn = dendrogram(Z, labels = X.index)"
   ]
  },
  {
   "cell_type": "markdown",
   "id": "dacfe55e",
   "metadata": {},
   "source": [
    "Par défaut, la fonction `dendrogram` nous suggère 2 classes. On peut rajouter des options:\n",
    "   - L'orientation \n",
    "   - La hauteur à partir de laquelle on souhaite *couper* l'arbre et faire des classes."
   ]
  },
  {
   "cell_type": "code",
   "execution_count": 10,
   "id": "367a5054",
   "metadata": {},
   "outputs": [
    {
     "data": {
      "image/png": "[encoded data removed]",
      "text/plain": [
       "<Figure size 720x720 with 1 Axes>"
      ]
     },
     "metadata": {
      "needs_background": "light"
     },
     "output_type": "display_data"
    }
   ],
   "source": [
    "fig = plt.figure(figsize=(10, 10))\n",
    "plt.title(\"CAH avec matérialisation des 4 classes\")\n",
    "dn = dendrogram(Z, labels = X.index, orientation = \"right\", color_threshold = 25)"
   ]
  },
  {
   "cell_type": "markdown",
   "id": "db0b71eb",
   "metadata": {},
   "source": [
    "Pour savoir à quelle classe appartient chaque individu, on utilise la fonction `fcluster`, en précisant:\n",
    "- Le critère pour regrouper les individus (ici la distance)\n",
    "- Le seuil t tel que dans une même classe (ou cluster) les individus soient à une distance inférieur à t."
   ]
  },
  {
   "cell_type": "code",
   "execution_count": 11,
   "id": "6094c79f",
   "metadata": {},
   "outputs": [
    {
     "data": {
      "text/plain": [
       "array([3, 3, 3, 5, 5, 5, 5, 5, 5, 3, 3, 4, 4, 4, 5, 2, 2, 2, 2, 2, 2, 1,\n",
       "       1, 1], dtype=int32)"
      ]
     },
     "execution_count": 11,
     "metadata": {},
     "output_type": "execute_result"
    }
   ],
   "source": [
    "from scipy.cluster.hierarchy import fcluster\n",
    "groupes_cah5 = fcluster(Z, t = 25, criterion = \"distance\")\n",
    "groupes_cah5"
   ]
  },
  {
   "cell_type": "markdown",
   "id": "dd2c1e71",
   "metadata": {},
   "source": [
    "On range ensuite les individus par classes et on les affiche.\n",
    "\n"
   ]
  },
  {
   "cell_type": "code",
   "execution_count": 12,
   "id": "b6aedb90",
   "metadata": {},
   "outputs": [
    {
     "data": {
      "text/html": [
       "<div>\n",
       "<style scoped>\n",
       "    .dataframe tbody tr th:only-of-type {\n",
       "        vertical-align: middle;\n",
       "    }\n",
       "\n",
       "    .dataframe tbody tr th {\n",
       "        vertical-align: top;\n",
       "    }\n",
       "\n",
       "    .dataframe thead th {\n",
       "        text-align: right;\n",
       "    }\n",
       "</style>\n",
       "<table border=\"1\" class=\"dataframe\">\n",
       "  <thead>\n",
       "    <tr style=\"text-align: right;\">\n",
       "      <th></th>\n",
       "      <th>AN</th>\n",
       "    </tr>\n",
       "  </thead>\n",
       "  <tbody>\n",
       "    <tr>\n",
       "      <th>1</th>\n",
       "      <td>1971</td>\n",
       "    </tr>\n",
       "    <tr>\n",
       "      <th>1</th>\n",
       "      <td>1965</td>\n",
       "    </tr>\n",
       "    <tr>\n",
       "      <th>1</th>\n",
       "      <td>1968</td>\n",
       "    </tr>\n",
       "    <tr>\n",
       "      <th>2</th>\n",
       "      <td>1962</td>\n",
       "    </tr>\n",
       "    <tr>\n",
       "      <th>2</th>\n",
       "      <td>1959</td>\n",
       "    </tr>\n",
       "    <tr>\n",
       "      <th>2</th>\n",
       "      <td>1956</td>\n",
       "    </tr>\n",
       "    <tr>\n",
       "      <th>2</th>\n",
       "      <td>1953</td>\n",
       "    </tr>\n",
       "    <tr>\n",
       "      <th>2</th>\n",
       "      <td>1950</td>\n",
       "    </tr>\n",
       "    <tr>\n",
       "      <th>2</th>\n",
       "      <td>1947</td>\n",
       "    </tr>\n",
       "    <tr>\n",
       "      <th>3</th>\n",
       "      <td>1926</td>\n",
       "    </tr>\n",
       "    <tr>\n",
       "      <th>3</th>\n",
       "      <td>1872</td>\n",
       "    </tr>\n",
       "    <tr>\n",
       "      <th>3</th>\n",
       "      <td>1890</td>\n",
       "    </tr>\n",
       "    <tr>\n",
       "      <th>3</th>\n",
       "      <td>1880</td>\n",
       "    </tr>\n",
       "    <tr>\n",
       "      <th>3</th>\n",
       "      <td>1923</td>\n",
       "    </tr>\n",
       "    <tr>\n",
       "      <th>4</th>\n",
       "      <td>1932</td>\n",
       "    </tr>\n",
       "    <tr>\n",
       "      <th>4</th>\n",
       "      <td>1935</td>\n",
       "    </tr>\n",
       "    <tr>\n",
       "      <th>4</th>\n",
       "      <td>1929</td>\n",
       "    </tr>\n",
       "    <tr>\n",
       "      <th>5</th>\n",
       "      <td>1920</td>\n",
       "    </tr>\n",
       "    <tr>\n",
       "      <th>5</th>\n",
       "      <td>1938</td>\n",
       "    </tr>\n",
       "    <tr>\n",
       "      <th>5</th>\n",
       "      <td>1912</td>\n",
       "    </tr>\n",
       "    <tr>\n",
       "      <th>5</th>\n",
       "      <td>1909</td>\n",
       "    </tr>\n",
       "    <tr>\n",
       "      <th>5</th>\n",
       "      <td>1906</td>\n",
       "    </tr>\n",
       "    <tr>\n",
       "      <th>5</th>\n",
       "      <td>1903</td>\n",
       "    </tr>\n",
       "    <tr>\n",
       "      <th>5</th>\n",
       "      <td>1900</td>\n",
       "    </tr>\n",
       "  </tbody>\n",
       "</table>\n",
       "</div>"
      ],
      "text/plain": [
       "     AN\n",
       "1  1971\n",
       "1  1965\n",
       "1  1968\n",
       "2  1962\n",
       "2  1959\n",
       "2  1956\n",
       "2  1953\n",
       "2  1950\n",
       "2  1947\n",
       "3  1926\n",
       "3  1872\n",
       "3  1890\n",
       "3  1880\n",
       "3  1923\n",
       "4  1932\n",
       "4  1935\n",
       "4  1929\n",
       "5  1920\n",
       "5  1938\n",
       "5  1912\n",
       "5  1909\n",
       "5  1906\n",
       "5  1903\n",
       "5  1900"
      ]
     },
     "execution_count": 12,
     "metadata": {},
     "output_type": "execute_result"
    }
   ],
   "source": [
    "idg = np.argsort(groupes_cah5)\n",
    "pd.DataFrame(X.index[idg], groupes_cah5[idg])\n"
   ]
  },
  {
   "cell_type": "markdown",
   "id": "b8f022a2",
   "metadata": {},
   "source": [
    "<span>&#9757;</span> Faire une autre partition mais en 2 classes seulement `groupes_cah2`"
   ]
  },
  {
   "cell_type": "code",
   "execution_count": 13,
   "id": "e4da03da",
   "metadata": {},
   "outputs": [
    {
     "data": {
      "text/plain": [
       "array([2, 2, 2, 2, 2, 2, 2, 2, 2, 2, 2, 2, 2, 2, 2, 1, 1, 1, 1, 1, 1, 1,\n",
       "       1, 1], dtype=int32)"
      ]
     },
     "execution_count": 13,
     "metadata": {},
     "output_type": "execute_result"
    }
   ],
   "source": [
    "groupes_cah2 = fcluster(Z, t = 60, criterion = \"distance\")\n",
    "groupes_cah2"
   ]
  },
  {
   "cell_type": "code",
   "execution_count": 14,
   "id": "7ab7ff78-9b01-4629-8b1c-8b5b55e37ff1",
   "metadata": {},
   "outputs": [
    {
     "data": {
      "text/html": [
       "<div>\n",
       "<style scoped>\n",
       "    .dataframe tbody tr th:only-of-type {\n",
       "        vertical-align: middle;\n",
       "    }\n",
       "\n",
       "    .dataframe tbody tr th {\n",
       "        vertical-align: top;\n",
       "    }\n",
       "\n",
       "    .dataframe thead th {\n",
       "        text-align: right;\n",
       "    }\n",
       "</style>\n",
       "<table border=\"1\" class=\"dataframe\">\n",
       "  <thead>\n",
       "    <tr style=\"text-align: right;\">\n",
       "      <th></th>\n",
       "      <th>AN</th>\n",
       "    </tr>\n",
       "  </thead>\n",
       "  <tbody>\n",
       "    <tr>\n",
       "      <th>1</th>\n",
       "      <td>1971</td>\n",
       "    </tr>\n",
       "    <tr>\n",
       "      <th>1</th>\n",
       "      <td>1965</td>\n",
       "    </tr>\n",
       "    <tr>\n",
       "      <th>1</th>\n",
       "      <td>1962</td>\n",
       "    </tr>\n",
       "    <tr>\n",
       "      <th>1</th>\n",
       "      <td>1959</td>\n",
       "    </tr>\n",
       "    <tr>\n",
       "      <th>1</th>\n",
       "      <td>1956</td>\n",
       "    </tr>\n",
       "    <tr>\n",
       "      <th>1</th>\n",
       "      <td>1953</td>\n",
       "    </tr>\n",
       "    <tr>\n",
       "      <th>1</th>\n",
       "      <td>1950</td>\n",
       "    </tr>\n",
       "    <tr>\n",
       "      <th>1</th>\n",
       "      <td>1947</td>\n",
       "    </tr>\n",
       "    <tr>\n",
       "      <th>1</th>\n",
       "      <td>1968</td>\n",
       "    </tr>\n",
       "    <tr>\n",
       "      <th>2</th>\n",
       "      <td>1938</td>\n",
       "    </tr>\n",
       "    <tr>\n",
       "      <th>2</th>\n",
       "      <td>1935</td>\n",
       "    </tr>\n",
       "    <tr>\n",
       "      <th>2</th>\n",
       "      <td>1932</td>\n",
       "    </tr>\n",
       "    <tr>\n",
       "      <th>2</th>\n",
       "      <td>1872</td>\n",
       "    </tr>\n",
       "    <tr>\n",
       "      <th>2</th>\n",
       "      <td>1923</td>\n",
       "    </tr>\n",
       "    <tr>\n",
       "      <th>2</th>\n",
       "      <td>1920</td>\n",
       "    </tr>\n",
       "    <tr>\n",
       "      <th>2</th>\n",
       "      <td>1912</td>\n",
       "    </tr>\n",
       "    <tr>\n",
       "      <th>2</th>\n",
       "      <td>1909</td>\n",
       "    </tr>\n",
       "    <tr>\n",
       "      <th>2</th>\n",
       "      <td>1906</td>\n",
       "    </tr>\n",
       "    <tr>\n",
       "      <th>2</th>\n",
       "      <td>1903</td>\n",
       "    </tr>\n",
       "    <tr>\n",
       "      <th>2</th>\n",
       "      <td>1900</td>\n",
       "    </tr>\n",
       "    <tr>\n",
       "      <th>2</th>\n",
       "      <td>1890</td>\n",
       "    </tr>\n",
       "    <tr>\n",
       "      <th>2</th>\n",
       "      <td>1880</td>\n",
       "    </tr>\n",
       "    <tr>\n",
       "      <th>2</th>\n",
       "      <td>1926</td>\n",
       "    </tr>\n",
       "    <tr>\n",
       "      <th>2</th>\n",
       "      <td>1929</td>\n",
       "    </tr>\n",
       "  </tbody>\n",
       "</table>\n",
       "</div>"
      ],
      "text/plain": [
       "     AN\n",
       "1  1971\n",
       "1  1965\n",
       "1  1962\n",
       "1  1959\n",
       "1  1956\n",
       "1  1953\n",
       "1  1950\n",
       "1  1947\n",
       "1  1968\n",
       "2  1938\n",
       "2  1935\n",
       "2  1932\n",
       "2  1872\n",
       "2  1923\n",
       "2  1920\n",
       "2  1912\n",
       "2  1909\n",
       "2  1906\n",
       "2  1903\n",
       "2  1900\n",
       "2  1890\n",
       "2  1880\n",
       "2  1926\n",
       "2  1929"
      ]
     },
     "execution_count": 14,
     "metadata": {},
     "output_type": "execute_result"
    }
   ],
   "source": [
    "idg2 = np.argsort(groupes_cah2)\n",
    "pd.DataFrame(X.index[idg2], groupes_cah2[idg2])"
   ]
  },
  {
   "cell_type": "markdown",
   "id": "6f97e353",
   "metadata": {},
   "source": [
    "<span>&#9757;</span> <span>&#9999;</span> Calculer les inerties inter-classes de ces 2 partitions. Commenter"
   ]
  },
  {
   "cell_type": "code",
   "execution_count": 15,
   "id": "85292bb2-61ad-460f-8f16-0723d7fe5aff",
   "metadata": {},
   "outputs": [
    {
     "data": {
      "text/plain": [
       "8.356879931666665"
      ]
     },
     "execution_count": 15,
     "metadata": {},
     "output_type": "execute_result"
    }
   ],
   "source": [
    "#Partition 1(5 classes)\n",
    "\n",
    "I_inter= 1/24*(91.84642829+ 43.80607264 + 33.66770673 + 31.2449107)\n",
    "\n",
    "I_inter"
   ]
  },
  {
   "cell_type": "code",
   "execution_count": 16,
   "id": "c219d2e5-e007-4efa-b054-fd897dcee35c",
   "metadata": {},
   "outputs": [
    {
     "data": {
      "text/plain": [
       "3.8269345120833336"
      ]
     },
     "execution_count": 16,
     "metadata": {},
     "output_type": "execute_result"
    }
   ],
   "source": [
    "#Partion 2(2 classes)\n",
    "\n",
    "I_inter2=1/24*(91.84642829)\n",
    "I_inter2"
   ]
  },
  {
   "cell_type": "markdown",
   "id": "5b51bdc9",
   "metadata": {},
   "source": [
    "<span>&#9757;</span> Faire une autre classification basée sur une autre distance de votre choix.\n",
    "\n",
    "<span>&#9999;</span> Comparer les deux classifications\n"
   ]
  },
  {
   "cell_type": "code",
   "execution_count": 17,
   "id": "83ff7c23-c56b-4331-913e-dca75b0bc3a3",
   "metadata": {},
   "outputs": [
    {
     "data": {
      "text/plain": [
       "array([[ 3.        ,  5.        ,  2.83019434,  2.        ],\n",
       "       [ 6.        , 24.        ,  3.20312348,  3.        ],\n",
       "       [ 4.        , 25.        ,  4.09023227,  4.        ],\n",
       "       [21.        , 22.        ,  4.47437146,  2.        ],\n",
       "       [12.        , 13.        ,  5.09215082,  2.        ],\n",
       "       [18.        , 19.        ,  5.38702144,  2.        ],\n",
       "       [20.        , 29.        ,  5.41387107,  3.        ],\n",
       "       [ 7.        , 26.        ,  6.20805928,  5.        ],\n",
       "       [23.        , 27.        ,  6.80955211,  3.        ],\n",
       "       [30.        , 32.        ,  7.55115885,  6.        ],\n",
       "       [14.        , 31.        ,  7.91580697,  6.        ],\n",
       "       [15.        , 17.        ,  8.12219182,  2.        ],\n",
       "       [11.        , 28.        ,  8.29638475,  3.        ],\n",
       "       [ 8.        , 34.        ,  8.33186654,  7.        ],\n",
       "       [ 2.        , 37.        ,  9.25526877,  8.        ],\n",
       "       [33.        , 35.        ,  9.40372267,  8.        ],\n",
       "       [ 1.        , 38.        , 10.60235823,  9.        ],\n",
       "       [ 9.        , 36.        , 11.24944443,  4.        ],\n",
       "       [10.        , 41.        , 12.17743815,  5.        ],\n",
       "       [ 0.        , 40.        , 12.32071427, 10.        ],\n",
       "       [42.        , 43.        , 13.1487642 , 15.        ],\n",
       "       [16.        , 39.        , 14.2267354 ,  9.        ],\n",
       "       [44.        , 45.        , 17.38878949, 24.        ]])"
      ]
     },
     "execution_count": 17,
     "metadata": {},
     "output_type": "execute_result"
    }
   ],
   "source": [
    "I = linkage(X, method = \"single\", metric = \"euclidean\")\n",
    "I"
   ]
  },
  {
   "cell_type": "code",
   "execution_count": 18,
   "id": "8e05d03d-ff21-4a89-8b0e-44ef765ac71b",
   "metadata": {},
   "outputs": [
    {
     "data": {
      "image/png": "[encoded data removed]",
      "text/plain": [
       "<Figure size 720x720 with 1 Axes>"
      ]
     },
     "metadata": {
      "needs_background": "light"
     },
     "output_type": "display_data"
    }
   ],
   "source": [
    "fig = plt.figure(figsize=(10, 10))\n",
    "plt.title(\"CAH\")\n",
    "dn = dendrogram(I, labels = X.index)"
   ]
  },
  {
   "cell_type": "code",
   "execution_count": 19,
   "id": "e244dc6e-d3b3-4f54-a503-38b5032365e6",
   "metadata": {},
   "outputs": [
    {
     "data": {
      "text/html": [
       "<div>\n",
       "<style scoped>\n",
       "    .dataframe tbody tr th:only-of-type {\n",
       "        vertical-align: middle;\n",
       "    }\n",
       "\n",
       "    .dataframe tbody tr th {\n",
       "        vertical-align: top;\n",
       "    }\n",
       "\n",
       "    .dataframe thead th {\n",
       "        text-align: right;\n",
       "    }\n",
       "</style>\n",
       "<table border=\"1\" class=\"dataframe\">\n",
       "  <thead>\n",
       "    <tr style=\"text-align: right;\">\n",
       "      <th></th>\n",
       "      <th>AN</th>\n",
       "    </tr>\n",
       "  </thead>\n",
       "  <tbody>\n",
       "    <tr>\n",
       "      <th>1</th>\n",
       "      <td>1872</td>\n",
       "    </tr>\n",
       "    <tr>\n",
       "      <th>1</th>\n",
       "      <td>1965</td>\n",
       "    </tr>\n",
       "    <tr>\n",
       "      <th>1</th>\n",
       "      <td>1962</td>\n",
       "    </tr>\n",
       "    <tr>\n",
       "      <th>1</th>\n",
       "      <td>1959</td>\n",
       "    </tr>\n",
       "    <tr>\n",
       "      <th>1</th>\n",
       "      <td>1956</td>\n",
       "    </tr>\n",
       "    <tr>\n",
       "      <th>1</th>\n",
       "      <td>1953</td>\n",
       "    </tr>\n",
       "    <tr>\n",
       "      <th>1</th>\n",
       "      <td>1950</td>\n",
       "    </tr>\n",
       "    <tr>\n",
       "      <th>1</th>\n",
       "      <td>1947</td>\n",
       "    </tr>\n",
       "    <tr>\n",
       "      <th>1</th>\n",
       "      <td>1938</td>\n",
       "    </tr>\n",
       "    <tr>\n",
       "      <th>1</th>\n",
       "      <td>1935</td>\n",
       "    </tr>\n",
       "    <tr>\n",
       "      <th>1</th>\n",
       "      <td>1932</td>\n",
       "    </tr>\n",
       "    <tr>\n",
       "      <th>1</th>\n",
       "      <td>1929</td>\n",
       "    </tr>\n",
       "    <tr>\n",
       "      <th>1</th>\n",
       "      <td>1926</td>\n",
       "    </tr>\n",
       "    <tr>\n",
       "      <th>1</th>\n",
       "      <td>1923</td>\n",
       "    </tr>\n",
       "    <tr>\n",
       "      <th>1</th>\n",
       "      <td>1920</td>\n",
       "    </tr>\n",
       "    <tr>\n",
       "      <th>1</th>\n",
       "      <td>1912</td>\n",
       "    </tr>\n",
       "    <tr>\n",
       "      <th>1</th>\n",
       "      <td>1909</td>\n",
       "    </tr>\n",
       "    <tr>\n",
       "      <th>1</th>\n",
       "      <td>1906</td>\n",
       "    </tr>\n",
       "    <tr>\n",
       "      <th>1</th>\n",
       "      <td>1903</td>\n",
       "    </tr>\n",
       "    <tr>\n",
       "      <th>1</th>\n",
       "      <td>1900</td>\n",
       "    </tr>\n",
       "    <tr>\n",
       "      <th>1</th>\n",
       "      <td>1890</td>\n",
       "    </tr>\n",
       "    <tr>\n",
       "      <th>1</th>\n",
       "      <td>1880</td>\n",
       "    </tr>\n",
       "    <tr>\n",
       "      <th>1</th>\n",
       "      <td>1968</td>\n",
       "    </tr>\n",
       "    <tr>\n",
       "      <th>1</th>\n",
       "      <td>1971</td>\n",
       "    </tr>\n",
       "  </tbody>\n",
       "</table>\n",
       "</div>"
      ],
      "text/plain": [
       "     AN\n",
       "1  1872\n",
       "1  1965\n",
       "1  1962\n",
       "1  1959\n",
       "1  1956\n",
       "1  1953\n",
       "1  1950\n",
       "1  1947\n",
       "1  1938\n",
       "1  1935\n",
       "1  1932\n",
       "1  1929\n",
       "1  1926\n",
       "1  1923\n",
       "1  1920\n",
       "1  1912\n",
       "1  1909\n",
       "1  1906\n",
       "1  1903\n",
       "1  1900\n",
       "1  1890\n",
       "1  1880\n",
       "1  1968\n",
       "1  1971"
      ]
     },
     "execution_count": 19,
     "metadata": {},
     "output_type": "execute_result"
    }
   ],
   "source": [
    "groupes_cah3 = fcluster(I, t = 60, criterion = \"distance\")\n",
    "groupes_cah3\n",
    "idg3 = np.argsort(groupes_cah3)\n",
    "pd.DataFrame(X.index[idg3], groupes_cah3[idg3])"
   ]
  },
  {
   "cell_type": "markdown",
   "id": "e40dd5f9-0bec-47f6-a26c-ab9d3378d937",
   "metadata": {},
   "source": [
    " Comparer les deux classifications\n",
    "\n",
    "**On constate que les deux classification donne à la fin deux partition de même individu**"
   ]
  },
  {
   "cell_type": "markdown",
   "id": "d4f97839",
   "metadata": {},
   "source": [
    "# Kmeans\n",
    "\n",
    "## Algorithme des K-means\n",
    "\n",
    "On va maintenant utiliser l'algorithme des **K-means** du package`scikit-learn`. Une documentation se trouve par exemple là: https://scikit-learn.org/stable/modules/generated/sklearn.cluster.KMeans.html#sklearn.cluster.KMeans. Pour cet algotithme:\n",
    "- on doit préciser initialement le nombre de classes que l'on souhaite dans `n_clusters`\n",
    "- on le fait ensuite tourner grâce à `.fit()` appliqué à notre tableau individus $\\times$ variables."
   ]
  },
  {
   "cell_type": "code",
   "execution_count": 20,
   "id": "8b52f8a2",
   "metadata": {},
   "outputs": [
    {
     "data": {
      "text/plain": [
       "KMeans(n_clusters=5)"
      ]
     },
     "execution_count": 20,
     "metadata": {},
     "output_type": "execute_result"
    }
   ],
   "source": [
    "from sklearn import cluster\n",
    "kmeans5 = cluster.KMeans(n_clusters=5)\n",
    "kmeans5.fit(X)"
   ]
  },
  {
   "cell_type": "markdown",
   "id": "569f7170",
   "metadata": {},
   "source": [
    "On extrait ensuite les informations qui nous interesent comme:\n",
    "- les classes des invidus (`.labels_`)\n",
    "- les centres des classes (`.cluster_centers_`)\n",
    "- n fois l'inertie intra-classe (`inertia_`)"
   ]
  },
  {
   "cell_type": "markdown",
   "id": "eac5982f",
   "metadata": {},
   "source": [
    "<span>&#9757;</span> Créer `groupes_km2` et `groupes_km5` qui donnent la liste des classes de chaque individus dans le cas de 2 et 5 classes."
   ]
  },
  {
   "cell_type": "code",
   "execution_count": 21,
   "id": "fcacbb08-1e79-4c5d-8a6e-4bdfc2b249de",
   "metadata": {},
   "outputs": [
    {
     "data": {
      "text/plain": [
       "array([4, 4, 4, 3, 3, 3, 3, 3, 3, 4, 4, 0, 0, 0, 3, 1, 1, 1, 1, 1, 2, 2,\n",
       "       2, 2])"
      ]
     },
     "execution_count": 21,
     "metadata": {},
     "output_type": "execute_result"
    }
   ],
   "source": [
    "groupes_km5= kmeans5.labels_\n",
    "groupes_km5"
   ]
  },
  {
   "cell_type": "code",
   "execution_count": 22,
   "id": "b687d2da-b00c-4067-a869-d936bbd5f997",
   "metadata": {},
   "outputs": [
    {
     "data": {
      "text/plain": [
       "KMeans(n_clusters=2)"
      ]
     },
     "execution_count": 22,
     "metadata": {},
     "output_type": "execute_result"
    }
   ],
   "source": [
    "kmeans2 = cluster.KMeans(n_clusters=2)\n",
    "kmeans2.fit(X)"
   ]
  },
  {
   "cell_type": "code",
   "execution_count": 23,
   "id": "56203b60-9198-446a-81a0-5ac101b52d7b",
   "metadata": {},
   "outputs": [
    {
     "data": {
      "text/plain": [
       "array([1, 1, 1, 1, 1, 1, 1, 1, 1, 1, 1, 1, 1, 1, 1, 0, 0, 0, 0, 0, 0, 0,\n",
       "       0, 0])"
      ]
     },
     "execution_count": 23,
     "metadata": {},
     "output_type": "execute_result"
    }
   ],
   "source": [
    "groupes_km2= kmeans2.labels_\n",
    "groupes_km2"
   ]
  },
  {
   "cell_type": "code",
   "execution_count": 24,
   "id": "98103d73-adcc-4129-bb70-e4246e8651ac",
   "metadata": {},
   "outputs": [
    {
     "name": "stdout",
     "output_type": "stream",
     "text": [
      "[1 1 1 1 1 1 1 1 1 1 1 1 1 1 1 0 0 0 0 0 0 0 0 0]\n",
      "[4 4 4 3 3 3 3 3 3 4 4 0 0 0 3 1 1 1 1 1 2 2 2 2]\n"
     ]
    }
   ],
   "source": [
    "print(groupes_km2)\n",
    "print(groupes_km5)"
   ]
  },
  {
   "cell_type": "markdown",
   "id": "d3a3a663",
   "metadata": {},
   "source": [
    "<span>&#9999;</span> Est-ce que les deux partitions sont emboitées (i.e. l'une est une sous-découpage de l'autre)?"
   ]
  },
  {
   "cell_type": "markdown",
   "id": "8d9863ed-9cbb-462e-beba-0d547853fa19",
   "metadata": {},
   "source": [
    "**Oui les deux partitions sont bien emboité car les classes 0, 2 et 3 du groupe_km5 sont incluse dans la classe 0 du\n",
    "groupe_km2 et 1 et 4 du du groupe_km5 sont incluse dans la classe 1 du groupe_km2**"
   ]
  },
  {
   "cell_type": "markdown",
   "id": "69e20091",
   "metadata": {},
   "source": [
    "<span>&#9757;</span> <span>&#9999;</span> Calculer les inerties inter-classes de ces 2 partitions. Commenter"
   ]
  },
  {
   "cell_type": "code",
   "execution_count": 25,
   "id": "78cfa73b-28db-4500-8ee6-ea42b420a310",
   "metadata": {},
   "outputs": [
    {
     "data": {
      "text/plain": [
       "310.57244791666665"
      ]
     },
     "execution_count": 25,
     "metadata": {},
     "output_type": "execute_result"
    }
   ],
   "source": [
    "Itotal= sum(np.var(X))\n",
    "Itotal"
   ]
  },
  {
   "cell_type": "code",
   "execution_count": 26,
   "id": "a10bc765-7a4a-426f-a051-f6560e380c48",
   "metadata": {
    "tags": []
   },
   "outputs": [
    {
     "data": {
      "text/plain": [
       "49.39688591269843"
      ]
     },
     "execution_count": 26,
     "metadata": {},
     "output_type": "execute_result"
    }
   ],
   "source": [
    "##Partition groupes_km5\n",
    "I_intraP1= (1/24)*kmeans5.inertia_\n",
    "I_intraP1"
   ]
  },
  {
   "cell_type": "code",
   "execution_count": 27,
   "id": "6d033ac9-9f20-4419-8229-ea85de0010dd",
   "metadata": {},
   "outputs": [
    {
     "data": {
      "text/plain": [
       "261.1755620039682"
      ]
     },
     "execution_count": 27,
     "metadata": {},
     "output_type": "execute_result"
    }
   ],
   "source": [
    "I_interP1=Itotal-I_intraP1\n",
    "I_interP1"
   ]
  },
  {
   "cell_type": "code",
   "execution_count": 28,
   "id": "9b5933fb-cddf-4fef-844c-9da867649c66",
   "metadata": {},
   "outputs": [
    {
     "data": {
      "text/plain": [
       "134.8273148148148"
      ]
     },
     "execution_count": 28,
     "metadata": {},
     "output_type": "execute_result"
    }
   ],
   "source": [
    "##Partition groupes_km2\n",
    "I_intraP2= (1/24)*kmeans2.inertia_\n",
    "I_intraP2"
   ]
  },
  {
   "cell_type": "code",
   "execution_count": 29,
   "id": "cb81441f-f86f-46ee-a32e-a7ad8a92dc7d",
   "metadata": {},
   "outputs": [
    {
     "data": {
      "text/plain": [
       "175.74513310185185"
      ]
     },
     "execution_count": 29,
     "metadata": {},
     "output_type": "execute_result"
    }
   ],
   "source": [
    "I_interP2=Itotal-I_intraP2\n",
    "I_interP2"
   ]
  },
  {
   "cell_type": "markdown",
   "id": "4a3e81c4-293f-45f1-b614-1b13b5c9c545",
   "metadata": {},
   "source": [
    "**Commentaire**\n"
   ]
  },
  {
   "cell_type": "markdown",
   "id": "62690a13",
   "metadata": {},
   "source": [
    "<span>&#9757;</span> Comme précédemment, ranger les individus par classe puis les afficher."
   ]
  },
  {
   "cell_type": "code",
   "execution_count": 30,
   "id": "484fc449-4041-4468-abf6-d8ea3a273ef3",
   "metadata": {},
   "outputs": [
    {
     "data": {
      "text/html": [
       "<div>\n",
       "<style scoped>\n",
       "    .dataframe tbody tr th:only-of-type {\n",
       "        vertical-align: middle;\n",
       "    }\n",
       "\n",
       "    .dataframe tbody tr th {\n",
       "        vertical-align: top;\n",
       "    }\n",
       "\n",
       "    .dataframe thead th {\n",
       "        text-align: right;\n",
       "    }\n",
       "</style>\n",
       "<table border=\"1\" class=\"dataframe\">\n",
       "  <thead>\n",
       "    <tr style=\"text-align: right;\">\n",
       "      <th></th>\n",
       "      <th>AN</th>\n",
       "    </tr>\n",
       "  </thead>\n",
       "  <tbody>\n",
       "    <tr>\n",
       "      <th>0</th>\n",
       "      <td>1929</td>\n",
       "    </tr>\n",
       "    <tr>\n",
       "      <th>0</th>\n",
       "      <td>1935</td>\n",
       "    </tr>\n",
       "    <tr>\n",
       "      <th>0</th>\n",
       "      <td>1932</td>\n",
       "    </tr>\n",
       "    <tr>\n",
       "      <th>1</th>\n",
       "      <td>1959</td>\n",
       "    </tr>\n",
       "    <tr>\n",
       "      <th>1</th>\n",
       "      <td>1956</td>\n",
       "    </tr>\n",
       "    <tr>\n",
       "      <th>1</th>\n",
       "      <td>1953</td>\n",
       "    </tr>\n",
       "    <tr>\n",
       "      <th>1</th>\n",
       "      <td>1950</td>\n",
       "    </tr>\n",
       "    <tr>\n",
       "      <th>1</th>\n",
       "      <td>1947</td>\n",
       "    </tr>\n",
       "    <tr>\n",
       "      <th>2</th>\n",
       "      <td>1965</td>\n",
       "    </tr>\n",
       "    <tr>\n",
       "      <th>2</th>\n",
       "      <td>1962</td>\n",
       "    </tr>\n",
       "    <tr>\n",
       "      <th>2</th>\n",
       "      <td>1968</td>\n",
       "    </tr>\n",
       "    <tr>\n",
       "      <th>2</th>\n",
       "      <td>1971</td>\n",
       "    </tr>\n",
       "    <tr>\n",
       "      <th>3</th>\n",
       "      <td>1920</td>\n",
       "    </tr>\n",
       "    <tr>\n",
       "      <th>3</th>\n",
       "      <td>1938</td>\n",
       "    </tr>\n",
       "    <tr>\n",
       "      <th>3</th>\n",
       "      <td>1912</td>\n",
       "    </tr>\n",
       "    <tr>\n",
       "      <th>3</th>\n",
       "      <td>1909</td>\n",
       "    </tr>\n",
       "    <tr>\n",
       "      <th>3</th>\n",
       "      <td>1906</td>\n",
       "    </tr>\n",
       "    <tr>\n",
       "      <th>3</th>\n",
       "      <td>1903</td>\n",
       "    </tr>\n",
       "    <tr>\n",
       "      <th>3</th>\n",
       "      <td>1900</td>\n",
       "    </tr>\n",
       "    <tr>\n",
       "      <th>4</th>\n",
       "      <td>1923</td>\n",
       "    </tr>\n",
       "    <tr>\n",
       "      <th>4</th>\n",
       "      <td>1890</td>\n",
       "    </tr>\n",
       "    <tr>\n",
       "      <th>4</th>\n",
       "      <td>1880</td>\n",
       "    </tr>\n",
       "    <tr>\n",
       "      <th>4</th>\n",
       "      <td>1926</td>\n",
       "    </tr>\n",
       "    <tr>\n",
       "      <th>4</th>\n",
       "      <td>1872</td>\n",
       "    </tr>\n",
       "  </tbody>\n",
       "</table>\n",
       "</div>"
      ],
      "text/plain": [
       "     AN\n",
       "0  1929\n",
       "0  1935\n",
       "0  1932\n",
       "1  1959\n",
       "1  1956\n",
       "1  1953\n",
       "1  1950\n",
       "1  1947\n",
       "2  1965\n",
       "2  1962\n",
       "2  1968\n",
       "2  1971\n",
       "3  1920\n",
       "3  1938\n",
       "3  1912\n",
       "3  1909\n",
       "3  1906\n",
       "3  1903\n",
       "3  1900\n",
       "4  1923\n",
       "4  1890\n",
       "4  1880\n",
       "4  1926\n",
       "4  1872"
      ]
     },
     "execution_count": 30,
     "metadata": {},
     "output_type": "execute_result"
    }
   ],
   "source": [
    "idg5 = np.argsort(groupes_km5)\n",
    "pd.DataFrame(X.index[idg5], groupes_km5[idg5])"
   ]
  },
  {
   "cell_type": "code",
   "execution_count": 31,
   "id": "83ee0c67-f2e2-4685-b69b-0876808a68a7",
   "metadata": {},
   "outputs": [
    {
     "data": {
      "text/html": [
       "<div>\n",
       "<style scoped>\n",
       "    .dataframe tbody tr th:only-of-type {\n",
       "        vertical-align: middle;\n",
       "    }\n",
       "\n",
       "    .dataframe tbody tr th {\n",
       "        vertical-align: top;\n",
       "    }\n",
       "\n",
       "    .dataframe thead th {\n",
       "        text-align: right;\n",
       "    }\n",
       "</style>\n",
       "<table border=\"1\" class=\"dataframe\">\n",
       "  <thead>\n",
       "    <tr style=\"text-align: right;\">\n",
       "      <th></th>\n",
       "      <th>AN</th>\n",
       "    </tr>\n",
       "  </thead>\n",
       "  <tbody>\n",
       "    <tr>\n",
       "      <th>0</th>\n",
       "      <td>1971</td>\n",
       "    </tr>\n",
       "    <tr>\n",
       "      <th>0</th>\n",
       "      <td>1965</td>\n",
       "    </tr>\n",
       "    <tr>\n",
       "      <th>0</th>\n",
       "      <td>1962</td>\n",
       "    </tr>\n",
       "    <tr>\n",
       "      <th>0</th>\n",
       "      <td>1959</td>\n",
       "    </tr>\n",
       "    <tr>\n",
       "      <th>0</th>\n",
       "      <td>1956</td>\n",
       "    </tr>\n",
       "    <tr>\n",
       "      <th>0</th>\n",
       "      <td>1953</td>\n",
       "    </tr>\n",
       "    <tr>\n",
       "      <th>0</th>\n",
       "      <td>1950</td>\n",
       "    </tr>\n",
       "    <tr>\n",
       "      <th>0</th>\n",
       "      <td>1947</td>\n",
       "    </tr>\n",
       "    <tr>\n",
       "      <th>0</th>\n",
       "      <td>1968</td>\n",
       "    </tr>\n",
       "    <tr>\n",
       "      <th>1</th>\n",
       "      <td>1938</td>\n",
       "    </tr>\n",
       "    <tr>\n",
       "      <th>1</th>\n",
       "      <td>1935</td>\n",
       "    </tr>\n",
       "    <tr>\n",
       "      <th>1</th>\n",
       "      <td>1932</td>\n",
       "    </tr>\n",
       "    <tr>\n",
       "      <th>1</th>\n",
       "      <td>1872</td>\n",
       "    </tr>\n",
       "    <tr>\n",
       "      <th>1</th>\n",
       "      <td>1923</td>\n",
       "    </tr>\n",
       "    <tr>\n",
       "      <th>1</th>\n",
       "      <td>1920</td>\n",
       "    </tr>\n",
       "    <tr>\n",
       "      <th>1</th>\n",
       "      <td>1912</td>\n",
       "    </tr>\n",
       "    <tr>\n",
       "      <th>1</th>\n",
       "      <td>1909</td>\n",
       "    </tr>\n",
       "    <tr>\n",
       "      <th>1</th>\n",
       "      <td>1906</td>\n",
       "    </tr>\n",
       "    <tr>\n",
       "      <th>1</th>\n",
       "      <td>1903</td>\n",
       "    </tr>\n",
       "    <tr>\n",
       "      <th>1</th>\n",
       "      <td>1900</td>\n",
       "    </tr>\n",
       "    <tr>\n",
       "      <th>1</th>\n",
       "      <td>1890</td>\n",
       "    </tr>\n",
       "    <tr>\n",
       "      <th>1</th>\n",
       "      <td>1880</td>\n",
       "    </tr>\n",
       "    <tr>\n",
       "      <th>1</th>\n",
       "      <td>1926</td>\n",
       "    </tr>\n",
       "    <tr>\n",
       "      <th>1</th>\n",
       "      <td>1929</td>\n",
       "    </tr>\n",
       "  </tbody>\n",
       "</table>\n",
       "</div>"
      ],
      "text/plain": [
       "     AN\n",
       "0  1971\n",
       "0  1965\n",
       "0  1962\n",
       "0  1959\n",
       "0  1956\n",
       "0  1953\n",
       "0  1950\n",
       "0  1947\n",
       "0  1968\n",
       "1  1938\n",
       "1  1935\n",
       "1  1932\n",
       "1  1872\n",
       "1  1923\n",
       "1  1920\n",
       "1  1912\n",
       "1  1909\n",
       "1  1906\n",
       "1  1903\n",
       "1  1900\n",
       "1  1890\n",
       "1  1880\n",
       "1  1926\n",
       "1  1929"
      ]
     },
     "execution_count": 31,
     "metadata": {},
     "output_type": "execute_result"
    }
   ],
   "source": [
    "idg22 = np.argsort(groupes_km2)\n",
    "pd.DataFrame(X.index[idg22], groupes_km2[idg22])"
   ]
  },
  {
   "cell_type": "markdown",
   "id": "7f0db8ea",
   "metadata": {},
   "source": [
    "## Comparaison des 2 algorithmes\n",
    "\n",
    "Pour comparer les partitions (en 5 classes) obtenues par les 2 algorithmes, on peut calculer les correspondances entre les classes grâce à `crosstab`."
   ]
  },
  {
   "cell_type": "code",
   "execution_count": 32,
   "id": "2fc1d416",
   "metadata": {},
   "outputs": [
    {
     "data": {
      "text/html": [
       "<div>\n",
       "<style scoped>\n",
       "    .dataframe tbody tr th:only-of-type {\n",
       "        vertical-align: middle;\n",
       "    }\n",
       "\n",
       "    .dataframe tbody tr th {\n",
       "        vertical-align: top;\n",
       "    }\n",
       "\n",
       "    .dataframe thead th {\n",
       "        text-align: right;\n",
       "    }\n",
       "</style>\n",
       "<table border=\"1\" class=\"dataframe\">\n",
       "  <thead>\n",
       "    <tr style=\"text-align: right;\">\n",
       "      <th>col_0</th>\n",
       "      <th>0</th>\n",
       "      <th>1</th>\n",
       "      <th>2</th>\n",
       "      <th>3</th>\n",
       "      <th>4</th>\n",
       "    </tr>\n",
       "    <tr>\n",
       "      <th>row_0</th>\n",
       "      <th></th>\n",
       "      <th></th>\n",
       "      <th></th>\n",
       "      <th></th>\n",
       "      <th></th>\n",
       "    </tr>\n",
       "  </thead>\n",
       "  <tbody>\n",
       "    <tr>\n",
       "      <th>1</th>\n",
       "      <td>0</td>\n",
       "      <td>0</td>\n",
       "      <td>3</td>\n",
       "      <td>0</td>\n",
       "      <td>0</td>\n",
       "    </tr>\n",
       "    <tr>\n",
       "      <th>2</th>\n",
       "      <td>0</td>\n",
       "      <td>5</td>\n",
       "      <td>1</td>\n",
       "      <td>0</td>\n",
       "      <td>0</td>\n",
       "    </tr>\n",
       "    <tr>\n",
       "      <th>3</th>\n",
       "      <td>0</td>\n",
       "      <td>0</td>\n",
       "      <td>0</td>\n",
       "      <td>0</td>\n",
       "      <td>5</td>\n",
       "    </tr>\n",
       "    <tr>\n",
       "      <th>4</th>\n",
       "      <td>3</td>\n",
       "      <td>0</td>\n",
       "      <td>0</td>\n",
       "      <td>0</td>\n",
       "      <td>0</td>\n",
       "    </tr>\n",
       "    <tr>\n",
       "      <th>5</th>\n",
       "      <td>0</td>\n",
       "      <td>0</td>\n",
       "      <td>0</td>\n",
       "      <td>7</td>\n",
       "      <td>0</td>\n",
       "    </tr>\n",
       "  </tbody>\n",
       "</table>\n",
       "</div>"
      ],
      "text/plain": [
       "col_0  0  1  2  3  4\n",
       "row_0               \n",
       "1      0  0  3  0  0\n",
       "2      0  5  1  0  0\n",
       "3      0  0  0  0  5\n",
       "4      3  0  0  0  0\n",
       "5      0  0  0  7  0"
      ]
     },
     "execution_count": 32,
     "metadata": {},
     "output_type": "execute_result"
    }
   ],
   "source": [
    "#correspondance avec les groupes de la CAH\n",
    "pd.crosstab(groupes_cah5,groupes_km5)"
   ]
  },
  {
   "cell_type": "markdown",
   "id": "f915a62b",
   "metadata": {},
   "source": [
    "<span>&#9999;</span> Quelles sont les classes qui coincident parfaitement? Quels sont les éléments qui n'ont pas été classés de la même façon?\n",
    "\n",
    "**Les classes qui coincident parfaitement sont:**\n",
    "\n",
    "**la classe 3 du groupe_cah5 et la classe 2 du groupe_km5**\n",
    "\n",
    "**les deux classes 4 des deux groupes**\n",
    "\n",
    "**la classe 5 du groupe_cah5 et la classe 1 c'est à dire numero 0 du groupe_km5** \n"
   ]
  },
  {
   "cell_type": "markdown",
   "id": "6d8426f9",
   "metadata": {},
   "source": [
    "<span>&#9757;</span> <span>&#9999;</span> Faire la même choses pour les partitions en 2 classes."
   ]
  },
  {
   "cell_type": "code",
   "execution_count": 33,
   "id": "8e93d8a3",
   "metadata": {},
   "outputs": [
    {
     "data": {
      "text/html": [
       "<div>\n",
       "<style scoped>\n",
       "    .dataframe tbody tr th:only-of-type {\n",
       "        vertical-align: middle;\n",
       "    }\n",
       "\n",
       "    .dataframe tbody tr th {\n",
       "        vertical-align: top;\n",
       "    }\n",
       "\n",
       "    .dataframe thead th {\n",
       "        text-align: right;\n",
       "    }\n",
       "</style>\n",
       "<table border=\"1\" class=\"dataframe\">\n",
       "  <thead>\n",
       "    <tr style=\"text-align: right;\">\n",
       "      <th>col_0</th>\n",
       "      <th>0</th>\n",
       "      <th>1</th>\n",
       "    </tr>\n",
       "    <tr>\n",
       "      <th>row_0</th>\n",
       "      <th></th>\n",
       "      <th></th>\n",
       "    </tr>\n",
       "  </thead>\n",
       "  <tbody>\n",
       "    <tr>\n",
       "      <th>1</th>\n",
       "      <td>9</td>\n",
       "      <td>0</td>\n",
       "    </tr>\n",
       "    <tr>\n",
       "      <th>2</th>\n",
       "      <td>0</td>\n",
       "      <td>15</td>\n",
       "    </tr>\n",
       "  </tbody>\n",
       "</table>\n",
       "</div>"
      ],
      "text/plain": [
       "col_0  0   1\n",
       "row_0       \n",
       "1      9   0\n",
       "2      0  15"
      ]
     },
     "execution_count": 33,
     "metadata": {},
     "output_type": "execute_result"
    }
   ],
   "source": [
    "pd.crosstab(groupes_cah2,groupes_km2)"
   ]
  },
  {
   "cell_type": "markdown",
   "id": "7105bdf9-0119-4b5d-b0fd-22cb57a73caf",
   "metadata": {},
   "source": [
    "**Toutes les classes coincident parfaitement**\n",
    "\n",
    "**La classe 1  du groupe_cah2 et la classe 0 du groupe_km2 coincident parfaitement**\n",
    "\n",
    "**La classe 2  du groupe_cah2 et la classe 1 du groupe_km2 coincident parfaitement** "
   ]
  },
  {
   "cell_type": "markdown",
   "id": "bc343868",
   "metadata": {},
   "source": [
    "# Caractérisation de la partition et de ses classes\n",
    "\n",
    "Pour travailler avec les classes du jeu de données, on peut utiliser la fonction `groupby` de `pandas`.\n",
    "\n"
   ]
  },
  {
   "cell_type": "code",
   "execution_count": 34,
   "id": "7fda4b0e",
   "metadata": {},
   "outputs": [
    {
     "data": {
      "text/html": [
       "<div>\n",
       "<style scoped>\n",
       "    .dataframe tbody tr th:only-of-type {\n",
       "        vertical-align: middle;\n",
       "    }\n",
       "\n",
       "    .dataframe tbody tr th {\n",
       "        vertical-align: top;\n",
       "    }\n",
       "\n",
       "    .dataframe thead th {\n",
       "        text-align: right;\n",
       "    }\n",
       "</style>\n",
       "<table border=\"1\" class=\"dataframe\">\n",
       "  <thead>\n",
       "    <tr style=\"text-align: right;\">\n",
       "      <th></th>\n",
       "      <th>PVP</th>\n",
       "      <th>AGR</th>\n",
       "      <th>CMI</th>\n",
       "      <th>TRA</th>\n",
       "      <th>LOG</th>\n",
       "      <th>EDU</th>\n",
       "      <th>ACS</th>\n",
       "      <th>ANC</th>\n",
       "      <th>DEF</th>\n",
       "      <th>DET</th>\n",
       "      <th>DIV</th>\n",
       "    </tr>\n",
       "  </thead>\n",
       "  <tbody>\n",
       "    <tr>\n",
       "      <th>0</th>\n",
       "      <td>9.80</td>\n",
       "      <td>1.333333</td>\n",
       "      <td>0.766667</td>\n",
       "      <td>8.566667</td>\n",
       "      <td>1.800000</td>\n",
       "      <td>10.166667</td>\n",
       "      <td>5.266667</td>\n",
       "      <td>12.166667</td>\n",
       "      <td>28.233333</td>\n",
       "      <td>21.166667</td>\n",
       "      <td>0.80</td>\n",
       "    </tr>\n",
       "    <tr>\n",
       "      <th>1</th>\n",
       "      <td>12.74</td>\n",
       "      <td>2.820000</td>\n",
       "      <td>10.120000</td>\n",
       "      <td>9.000000</td>\n",
       "      <td>10.980000</td>\n",
       "      <td>9.380000</td>\n",
       "      <td>6.300000</td>\n",
       "      <td>4.060000</td>\n",
       "      <td>28.780000</td>\n",
       "      <td>5.540000</td>\n",
       "      <td>0.30</td>\n",
       "    </tr>\n",
       "    <tr>\n",
       "      <th>2</th>\n",
       "      <td>12.35</td>\n",
       "      <td>4.450000</td>\n",
       "      <td>8.125000</td>\n",
       "      <td>7.525000</td>\n",
       "      <td>5.450000</td>\n",
       "      <td>20.025000</td>\n",
       "      <td>10.575000</td>\n",
       "      <td>4.475000</td>\n",
       "      <td>20.775000</td>\n",
       "      <td>5.375000</td>\n",
       "      <td>0.95</td>\n",
       "    </tr>\n",
       "    <tr>\n",
       "      <th>3</th>\n",
       "      <td>12.40</td>\n",
       "      <td>1.214286</td>\n",
       "      <td>0.671429</td>\n",
       "      <td>8.642857</td>\n",
       "      <td>1.071429</td>\n",
       "      <td>8.000000</td>\n",
       "      <td>2.700000</td>\n",
       "      <td>1.114286</td>\n",
       "      <td>39.371429</td>\n",
       "      <td>23.271429</td>\n",
       "      <td>1.60</td>\n",
       "    </tr>\n",
       "    <tr>\n",
       "      <th>4</th>\n",
       "      <td>12.76</td>\n",
       "      <td>0.700000</td>\n",
       "      <td>0.900000</td>\n",
       "      <td>7.680000</td>\n",
       "      <td>1.080000</td>\n",
       "      <td>5.020000</td>\n",
       "      <td>1.420000</td>\n",
       "      <td>4.020000</td>\n",
       "      <td>27.780000</td>\n",
       "      <td>36.760000</td>\n",
       "      <td>1.90</td>\n",
       "    </tr>\n",
       "  </tbody>\n",
       "</table>\n",
       "</div>"
      ],
      "text/plain": [
       "     PVP       AGR        CMI       TRA        LOG        EDU        ACS  \\\n",
       "0   9.80  1.333333   0.766667  8.566667   1.800000  10.166667   5.266667   \n",
       "1  12.74  2.820000  10.120000  9.000000  10.980000   9.380000   6.300000   \n",
       "2  12.35  4.450000   8.125000  7.525000   5.450000  20.025000  10.575000   \n",
       "3  12.40  1.214286   0.671429  8.642857   1.071429   8.000000   2.700000   \n",
       "4  12.76  0.700000   0.900000  7.680000   1.080000   5.020000   1.420000   \n",
       "\n",
       "         ANC        DEF        DET   DIV  \n",
       "0  12.166667  28.233333  21.166667  0.80  \n",
       "1   4.060000  28.780000   5.540000  0.30  \n",
       "2   4.475000  20.775000   5.375000  0.95  \n",
       "3   1.114286  39.371429  23.271429  1.60  \n",
       "4   4.020000  27.780000  36.760000  1.90  "
      ]
     },
     "execution_count": 34,
     "metadata": {},
     "output_type": "execute_result"
    }
   ],
   "source": [
    "G=X.groupby(kmeans5.labels_)\n",
    "G.mean()"
   ]
  },
  {
   "cell_type": "markdown",
   "id": "dd3965a5",
   "metadata": {},
   "source": [
    "statsDans cette partie on aura recours à des **tests statistiques**. On va utiliser pour cela la libraire `stats` de `scipy` ou bien le package `statsmodels`."
   ]
  },
  {
   "cell_type": "code",
   "execution_count": 35,
   "id": "f5bdb3b9-1bb2-4423-a10f-16213d1b883a",
   "metadata": {},
   "outputs": [],
   "source": [
    "from scipy import stats\n",
    "import statsmodels.api as sm"
   ]
  },
  {
   "cell_type": "markdown",
   "id": "c2581307",
   "metadata": {},
   "source": [
    "## Interprétation des classes grâce aux individus\n",
    "\n",
    "On peut calculer les distances de chaque individu aux centres des classes grâce à la fonction `transform`, et ainsi déterminer les **parangons** des classes."
   ]
  },
  {
   "cell_type": "code",
   "execution_count": 36,
   "id": "3b32fe94",
   "metadata": {},
   "outputs": [
    {
     "data": {
      "text/plain": [
       "array([12, 18, 21,  5,  2], dtype=int64)"
      ]
     },
     "execution_count": 36,
     "metadata": {},
     "output_type": "execute_result"
    }
   ],
   "source": [
    "pd.DataFrame(kmeans5.transform(X), index=X.index)\n",
    "np.amin(kmeans5.transform(X),axis=0)\n",
    "np.argmin(kmeans5.transform(X),axis=0)"
   ]
  },
  {
   "cell_type": "markdown",
   "id": "8df127c5-d4b8-4403-b273-314372318a50",
   "metadata": {},
   "source": [
    "<span>&#9999;</span> Donner pour chacune des 5 classes le parangon.\n",
    "\n",
    "**Le parangon de la classe 0 est: 5**\n",
    "\n",
    "**Le parangon de la classe 1 est: 21**\n",
    "\n",
    "**Le parangon de la classe 2 est: 2**\n",
    "\n",
    "**Le parangon de la classe 3 est: 18**\n",
    "\n",
    "**Le parangon de la classe 4 est: 12**"
   ]
  },
  {
   "cell_type": "markdown",
   "id": "faf21960",
   "metadata": {},
   "source": [
    "<span>&#9999;</span> <span>&#9757;</span> Faire la meme chose pour la CAH"
   ]
  },
  {
   "cell_type": "code",
   "execution_count": 37,
   "id": "4c2d6ae2-49fe-43b6-9be8-d188d9b11643",
   "metadata": {},
   "outputs": [
    {
     "ename": "AttributeError",
     "evalue": "'numpy.ndarray' object has no attribute 'transform'",
     "output_type": "error",
     "traceback": [
      "\u001b[1;31m---------------------------------------------------------------------------\u001b[0m",
      "\u001b[1;31mAttributeError\u001b[0m                            Traceback (most recent call last)",
      "\u001b[1;32mC:\\Users\\ISBATH~1\\AppData\\Local\\Temp/ipykernel_4212/1836490282.py\u001b[0m in \u001b[0;36m<module>\u001b[1;34m\u001b[0m\n\u001b[1;32m----> 1\u001b[1;33m \u001b[0mpd\u001b[0m\u001b[1;33m.\u001b[0m\u001b[0mDataFrame\u001b[0m\u001b[1;33m(\u001b[0m\u001b[0mgroupes_cah5\u001b[0m\u001b[1;33m.\u001b[0m\u001b[0mtransform\u001b[0m\u001b[1;33m(\u001b[0m\u001b[0mX\u001b[0m\u001b[1;33m)\u001b[0m\u001b[1;33m,\u001b[0m \u001b[0mindex\u001b[0m\u001b[1;33m=\u001b[0m\u001b[0mX\u001b[0m\u001b[1;33m.\u001b[0m\u001b[0mindex\u001b[0m\u001b[1;33m)\u001b[0m\u001b[1;33m\u001b[0m\u001b[1;33m\u001b[0m\u001b[0m\n\u001b[0m\u001b[0;32m      2\u001b[0m \u001b[0mnp\u001b[0m\u001b[1;33m.\u001b[0m\u001b[0mamin\u001b[0m\u001b[1;33m(\u001b[0m\u001b[0mgroupes_cah5\u001b[0m\u001b[1;33m.\u001b[0m\u001b[0mtransform\u001b[0m\u001b[1;33m(\u001b[0m\u001b[0mX\u001b[0m\u001b[1;33m)\u001b[0m\u001b[1;33m,\u001b[0m\u001b[0maxis\u001b[0m\u001b[1;33m=\u001b[0m\u001b[1;36m0\u001b[0m\u001b[1;33m)\u001b[0m\u001b[1;33m\u001b[0m\u001b[1;33m\u001b[0m\u001b[0m\n\u001b[0;32m      3\u001b[0m \u001b[0mnp\u001b[0m\u001b[1;33m.\u001b[0m\u001b[0margmin\u001b[0m\u001b[1;33m(\u001b[0m\u001b[0mgroupes_cah5\u001b[0m\u001b[1;33m.\u001b[0m\u001b[0mtransform\u001b[0m\u001b[1;33m(\u001b[0m\u001b[0mX\u001b[0m\u001b[1;33m)\u001b[0m\u001b[1;33m,\u001b[0m\u001b[0maxis\u001b[0m\u001b[1;33m=\u001b[0m\u001b[1;36m0\u001b[0m\u001b[1;33m)\u001b[0m\u001b[1;33m\u001b[0m\u001b[1;33m\u001b[0m\u001b[0m\n",
      "\u001b[1;31mAttributeError\u001b[0m: 'numpy.ndarray' object has no attribute 'transform'"
     ]
    }
   ],
   "source": [
    "pd.DataFrame(groupes_cah5.transform(X), index=X.index)\n",
    "np.amin(groupes_cah5.transform(X),axis=0)\n",
    "np.argmin(groupes_cah5.transform(X),axis=0)"
   ]
  },
  {
   "cell_type": "markdown",
   "id": "9ca297fc",
   "metadata": {
    "tags": []
   },
   "source": [
    "## Interprétation de la partition grâce aux variables\n",
    "\n",
    "Pour vérifier si une variable quantitative influence la partition ou non, on va considérer la classe de chaque individu comme une variable qualitative et tester la liaision entre la variable qualitative la variable quantitive. Cette méthode est connue sous le nom de *ANOVA*, ou *analyse de la variance à 1 facteur*. Il s'agit de vérifier si on peut considérer les moyennes conditionnelles d'une variable sur chaque classe comme égales.\n",
    "\n",
    "Soit X la variable, $\\mu_i$ sa moyenne conditionnelle sur la classe $i$. On teste:\n",
    "\n",
    "$$H_0=\\{ \\mu_1=\\mu_2=\\ldots=\\mu_K\\}$$ \n",
    "\n",
    "$$H_1=\\{\\text{il existe au moins une des $\\mu_i$ qui diffère}\\}$$\n",
    "\n",
    "On commence donc par ajouter les classes comme une nouvelle variable de notre dataframe:\n"
   ]
  },
  {
   "cell_type": "code",
   "execution_count": null,
   "id": "af3e04d1",
   "metadata": {},
   "outputs": [],
   "source": [
    "X['cah5']=groupes_cah5"
   ]
  },
  {
   "cell_type": "markdown",
   "id": "28f7bf9b",
   "metadata": {},
   "source": [
    "On utilise ensuite des modules de `statsmodels` pour faire le test. La sortie est très ressemblante à celle de R. On y retrouve notamment:\n",
    "- La valeur de la statistique de test dans la colonne F\n",
    "- La p-valeur dans la colonne PR(>F)"
   ]
  },
  {
   "cell_type": "code",
   "execution_count": null,
   "id": "bce4c7b4",
   "metadata": {
    "scrolled": true
   },
   "outputs": [],
   "source": [
    "import statsmodels.formula.api\n",
    "import statsmodels.api \n",
    "fit = statsmodels.formula.api.ols('PVP ~ classe', data = X).fit()\n",
    "table = statsmodels.api.stats.anova_lm(fit)\n",
    "table"
   ]
  },
  {
   "cell_type": "markdown",
   "id": "7c730a09",
   "metadata": {},
   "source": [
    "<span>&#9999;</span> Quelle est la conclusion de ce test?"
   ]
  },
  {
   "cell_type": "markdown",
   "id": "4d710f90",
   "metadata": {},
   "source": [
    "On itère sur toutes les variables (mais on va perdre la belle présentation de DataFrame):"
   ]
  },
  {
   "cell_type": "code",
   "execution_count": null,
   "id": "e906705e",
   "metadata": {},
   "outputs": [],
   "source": [
    "for i,j in X.iteritems():\n",
    "    print(i)\n",
    "    fit = statsmodels.formula.api.ols('j ~ classe', data = X).fit()\n",
    "    table = statsmodels.api.stats.anova_lm(fit)\n",
    "    print(table)"
   ]
  },
  {
   "cell_type": "markdown",
   "id": "054cb7e6",
   "metadata": {},
   "source": [
    "<span>&#9999;</span> Quelles sont les variables qui expliquent significativement la partition?\n",
    "    \n",
    "On se demande alors quelles classes sont caractérisées par ces variables."
   ]
  },
  {
   "cell_type": "markdown",
   "id": "16dc024d",
   "metadata": {},
   "source": [
    "## Interprétation des classes grâce aux variables"
   ]
  },
  {
   "cell_type": "markdown",
   "id": "05acee0f",
   "metadata": {},
   "source": [
    "Le but est de comparer, pour chaque variables et pour chaque classe, la moyenne de la variable sur la classe (dite *moyenne conditionnelle*) avec la moyenne sur tous les individus. S'il y a une différence significative, on conlue que la variable caractérise la classe. "
   ]
  },
  {
   "cell_type": "code",
   "execution_count": null,
   "id": "62de2e18",
   "metadata": {},
   "outputs": [],
   "source": [
    "pd.DataFrame(X.mean())\n"
   ]
  },
  {
   "cell_type": "code",
   "execution_count": null,
   "id": "6c24fee6",
   "metadata": {},
   "outputs": [],
   "source": [
    "X.groupby(kmeans.labels_).mean()\n"
   ]
  },
  {
   "cell_type": "markdown",
   "id": "b1cbb80e",
   "metadata": {},
   "source": [
    "<span>&#9999;</span> A partir des observations précédentes, quelles variables vous paraissent expliquer la classe 0? la classe 1?\n",
    "\n",
    "Pour vérifier si ces différences sont significatives, on a recours au test suivant:\n",
    "\n",
    "Soit X la variable, $\\mu$ sa moyenne et $\\mu_k$ sa moyenne conditionnelle sur la classe $k$ (et $\\sigma^2$ sa variance). On teste:\n",
    "\n",
    "$$H_0=\\{ \\mu_k=\\mu\\}$$ \n",
    "\n",
    "$$H_1=\\{\\mu_k\\neq \\mu\\}$$\n",
    "\n",
    "Il ne s'agit pas d'un test de moyennes classiques (car on ne compare pas ni à une valeur théorique ni 2 valeurs observées sur échantillons indépendants). On effectue donc le test à la main avec la statistique de test suivante:\n",
    "\n",
    "$$Z=\\frac{\\mu_k-\\mu}{\\sqrt{\\frac{\\sigma^2}{n_k}\\frac{n-n_k}{n-1}}}\\sim \\mathcal{N}(0,1)$$"
   ]
  },
  {
   "cell_type": "markdown",
   "id": "de420b5d",
   "metadata": {},
   "source": [
    "<span>&#9757;</span> Commencer par choisir une variable et une classe et effectuer ce test. Conclure\n",
    "\n",
    "<span>&#9757;</span>  Faire une boucle pour itérer sur toutes les classes et toutes les variables."
   ]
  },
  {
   "cell_type": "markdown",
   "id": "cca7ffbb",
   "metadata": {},
   "source": [
    "<span>&#9999;</span> Quelles sont les variables qui expliquent quelles classes?"
   ]
  },
  {
   "cell_type": "markdown",
   "id": "8c9f62a8",
   "metadata": {},
   "source": [
    "# Utilisation de l'ACP\n",
    "\n",
    "On peut avoir recours à une ACP **avant** une classification lorsque le nombre de variables est trop important. Mais on peut aussi y avoir recours **après** pour aider à l'interprétation des classes en fonctions des variables (car l'étude précédente ne tenait pas compte des liaisons entre variables) ou tout simplement pour visualiser en 2 dimensions notre classification. L'ACP peut parfois permettre de mettre en évidence un groupe qui écrase l'information disponible, tasse les autres individus et masque des relations pouvant exister entre ceux-ci.\n",
    "\n",
    "On effectue donc une ACP en ne gardant que les 2 premiers axes:"
   ]
  },
  {
   "cell_type": "code",
   "execution_count": null,
   "id": "43865104",
   "metadata": {},
   "outputs": [],
   "source": [
    "from sklearn.decomposition import PCA\n",
    "acp = PCA(n_components = 2).fit_transform(X)"
   ]
  },
  {
   "cell_type": "markdown",
   "id": "67f2ab6d",
   "metadata": {},
   "source": [
    "Puis on colorie les points selon leurs classes dans la classification donnée par l'algo des K-means."
   ]
  },
  {
   "cell_type": "code",
   "execution_count": null,
   "id": "858c4086",
   "metadata": {},
   "outputs": [],
   "source": [
    "#projeter dans le plan factoriel avec un code couleur différent selon le groupe\n",
    "plt.figure(figsize =(10,10))\n",
    "for couleur,k in zip(['red', 'blue', 'lawngreen', 'aqua','violet'],[0,1,2,3,4]):\n",
    "    plt.scatter(acp[groupes_km5==k,0], acp[groupes_km5==k,1],c=couleur)\n",
    "    \n",
    "#mettre les labels des points\n",
    "for i,label in enumerate(X.index):\n",
    "    plt.annotate(label,(acp[i,0], acp[i,1]))"
   ]
  },
  {
   "cell_type": "markdown",
   "id": "568d31a0",
   "metadata": {},
   "source": [
    "<span>&#9999;</span> A partir de cette illustration répondez aux questions suivantes:\n",
    "- Pensez vous que certains points sont mal classés? Si oui, lesquels?\n",
    "- Certaines classes peuvent-elles êtres caractérisées par les axes factoriels? Si oui, lesquels?"
   ]
  },
  {
   "cell_type": "markdown",
   "id": "f7b6b0e1",
   "metadata": {
    "tags": []
   },
   "source": [
    "<span>&#9757;</span> Faire la même représentation avec les 5 classes de la CAH et répondre aux mêmes questions."
   ]
  },
  {
   "cell_type": "code",
   "execution_count": null,
   "id": "45de5017-b2c8-4e8a-9ad4-7a2bf6599966",
   "metadata": {},
   "outputs": [],
   "source": [
    "#projeter dans le plan factoriel avec un code couleur différent selon le groupe\n",
    "plt.figure(figsize =(10,10))\n",
    "for couleur,k in zip(['red', 'blue', 'lawngreen', 'aqua','violet'],[0,1,2,3,4]):\n",
    "    plt.scatter(acp[groupes_cah5==k,0], acp[groupes_cah5==k,1],c=couleur)\n",
    "    \n",
    "#mettre les labels des points\n",
    "for i,label in enumerate(X.index):\n",
    "    plt.annotate(label,(acp[i,0], acp[i,1]))"
   ]
  },
  {
   "cell_type": "markdown",
   "id": "cd872952",
   "metadata": {},
   "source": [
    "# Compléments \n",
    "\n",
    "Refaire ce travail de classification sur les données de votre choix."
   ]
  }
 ],
 "metadata": {
  "kernelspec": {
   "display_name": "Python 3 (ipykernel)",
   "language": "python",
   "name": "python3"
  },
  "language_info": {
   "codemirror_mode": {
    "name": "ipython",
    "version": 3
   },
   "file_extension": ".py",
   "mimetype": "text/x-python",
   "name": "python",
   "nbconvert_exporter": "python",
   "pygments_lexer": "ipython3",
   "version": "3.9.7"
  }
 },
 "nbformat": 4,
 "nbformat_minor": 5
}
